{
 "cells": [
  {
   "cell_type": "markdown",
   "metadata": {},
   "source": [
    "# Preprocessing The Data #"
   ]
  },
  {
   "cell_type": "markdown",
   "metadata": {},
   "source": [
    "There are some techniques we want to use to process the data, but first let's load in the values from the .mat files."
   ]
  },
  {
   "cell_type": "code",
   "execution_count": 47,
   "metadata": {
    "collapsed": true
   },
   "outputs": [],
   "source": [
    "# Import list\n",
    "import scipy.io as sio\n",
    "import numpy as np"
   ]
  },
  {
   "cell_type": "code",
   "execution_count": 9,
   "metadata": {
    "collapsed": false
   },
   "outputs": [
    {
     "name": "stdout",
     "output_type": "stream",
     "text": [
      "Key :  __version__ \n",
      " Values :  1.0\n",
      "Key :  data \n",
      " Values :  [[array([[152]], dtype=uint8) array([u'2b'], \n",
      "      dtype='<U2')\n",
      "  array([[ nan]]) ..., array([[ nan]]) array([[5]], dtype=uint8)\n",
      "  array([[ nan]])]\n",
      " [array([[189]], dtype=uint8) array([u'2b'], \n",
      "      dtype='<U2')\n",
      "  array([[ nan]]) ..., array([[ nan]]) array([[4]], dtype=uint8)\n",
      "  array([[20]], dtype=uint8)]\n",
      " [array([[137]], dtype=uint8) array([u'2a'], \n",
      "      dtype='<U2')\n",
      "  array([[ nan]]) ..., array([[ nan]]) array([[5]], dtype=uint8)\n",
      "  array([[19]], dtype=uint8)]\n",
      " ..., \n",
      " [array([], shape=(1, 0), dtype=float64)\n",
      "  array([], shape=(1, 0), dtype=float64)\n",
      "  array([], shape=(1, 0), dtype=float64) ...,\n",
      "  array([], shape=(1, 0), dtype=float64)\n",
      "  array([], shape=(1, 0), dtype=float64)\n",
      "  array([], shape=(1, 0), dtype=float64)]\n",
      " [array([], shape=(1, 0), dtype=float64)\n",
      "  array([], shape=(1, 0), dtype=float64)\n",
      "  array([], shape=(1, 0), dtype=float64) ...,\n",
      "  array([], shape=(1, 0), dtype=float64)\n",
      "  array([], shape=(1, 0), dtype=float64)\n",
      "  array([], shape=(1, 0), dtype=float64)]\n",
      " [array([], shape=(1, 0), dtype=float64)\n",
      "  array([], shape=(1, 0), dtype=float64)\n",
      "  array([], shape=(1, 0), dtype=float64) ...,\n",
      "  array([], shape=(1, 0), dtype=float64)\n",
      "  array([], shape=(1, 0), dtype=float64)\n",
      "  array([], shape=(1, 0), dtype=float64)]]\n",
      "Key :  __header__ \n",
      " Values :  MATLAB 5.0 MAT-file, Platform: MACI64, Created on: Wed Jun 11 23:58:39 2014\n",
      "Key :  __globals__ \n",
      " Values :  []\n"
     ]
    }
   ],
   "source": [
    "contents = sio.loadmat('data/data.mat') # This is the first file, I think it contains the labels?\n",
    "for key in contents.keys():\n",
    "    print \"Key : \", key, \"\\n Values : \", contents[key]"
   ]
  },
  {
   "cell_type": "markdown",
   "metadata": {},
   "source": [
    "## What do we see ##\n",
    "We see a couple different things inside, one strikes our attention:\n",
    "- \"__version__\" is the version of the mat\n",
    "- \"__data__\" is the data we want\n",
    "- \"__header__\" and \"__globals__\" are empty things we don't really care about."
   ]
  },
  {
   "cell_type": "code",
   "execution_count": 80,
   "metadata": {
    "collapsed": false,
    "scrolled": true
   },
   "outputs": [
    {
     "name": "stdout",
     "output_type": "stream",
     "text": [
      "y's :  [3, 3, 2, 2, 2, 2, 2, 3, 4, 2, 3, 3, 3, 1, 2, 2, 2, 3, 0, 2, 3, 2, 3, 0, 3, 2, 3, 2, 3, 0, 3, 3, 0, 2, 3, 2, 0, 3, 0, 0, 0, 4, 4, 3, 2, 4, 3, 2, 2, 0, 2, 3, 2, 0, 2, 0, 0, 3, 3, 2, 3, 4, 0, 0, -1, 2, 0, 3, -1, 1, 3, 3, 3, 0, 2, 0, 0, 4, 0, 2, 2, 2, 3, 3, 2, 3, 4, 2, 3, 2, 3, 3, 3, 0, 0, 0, 3, 2, 4, 2, 3, 3, 3, 3, 1, 0, 0, 1, 1, 2, 3, 3, 2, 2, 3, 3, 3, 3, 2, 2, 3, 4, 3, 3, 3, 4, 3, 0, 4, 3, 2, 4, 2, 2, 2, 3, 3, 2, 2, 1, 3, 3, 2, 0, 3, 3, 3, 2, 3, 0, 4, 1, 3, 3, 1, 3, 0, 2, 3, 2, 0, 4, 3, 3, 4, 3, 2, 2, 3, 3, 4, 3, 2, 3, 2, 2, 2, 2, 3, 3, 3, 2, 3]\n",
      "y freq's :  {0: 29, 1: 8, 2: 55, 3: 73, 4: 16, -1: 2}\n"
     ]
    }
   ],
   "source": [
    "# Extract the data field\n",
    "raw_data = contents['data']\n",
    "# We see there is an array of arbitrary size, sometimes there's 152, nan, 189, etc...\n",
    "# We see the label (ground truth) in the array with the dtype = unsigned 2 bit integer\n",
    "\n",
    "raw_labels = [raw_data_element[1] for raw_data_element in raw_data]\n",
    "# print \"Some raw data labels : \", raw_labels[:30]\n",
    "\n",
    "label = raw_labels\n",
    "# print label\n",
    "# We need to change these into classes, so let's map the labels to values:\n",
    "# An issue is that for some reason the matrices are in 2d, so we can't get the value straight away, reshape it\n",
    "# nan = -1 <-- What is \"nan\"? Ask fabien\n",
    "# 0 = 0\n",
    "# 1 = 1\n",
    "# 2a = 2\n",
    "# 2b = 3\n",
    "# 3 = 4\n",
    "mapping = {'na' : -1, '0' : 0, '1' : 1, '2a' : 2, '2b' : 3, '3' : 4}\n",
    "\n",
    "labels = []\n",
    "for label in raw_labels:\n",
    "    unrolled_label = label.reshape(-1)\n",
    "    if len(unrolled_label) > 0:\n",
    "        # we turn the numbers into str, and then cut anything unnecessary out\n",
    "        # There is one label with '0 (bilateral MCA)' and we can remove the second part by .split()\n",
    "        # There is one label with '2a?' and we can remove the question mark by just thresholding str to len <= 2\n",
    "        labels.append(str(unrolled_label[0])[:2].split(\" \")[0]) \n",
    "\n",
    "# Now we turn them into y's:\n",
    "raw_y = [mapping[label] for label in labels]\n",
    "print \"y's : \" , raw_y\n",
    "\n",
    "# Now let's count the number of each occurrence:\n",
    "y_freq = {y:raw_y.count(y) for y in set(raw_y)}\n",
    "print \"y freq's : \", y_freq\n",
    "\n",
    "# From this, we can see there's a lot of 0's, and most data tends to be in the middle(2 & 3)'s. \n",
    "# TODO: Data augmentation to add more samples in the cases of class 1 and class 4."
   ]
  },
  {
   "cell_type": "code",
   "execution_count": null,
   "metadata": {
    "collapsed": true
   },
   "outputs": [],
   "source": []
  }
 ],
 "metadata": {
  "kernelspec": {
   "display_name": "Python 2",
   "language": "python",
   "name": "python2"
  },
  "language_info": {
   "codemirror_mode": {
    "name": "ipython",
    "version": 2
   },
   "file_extension": ".py",
   "mimetype": "text/x-python",
   "name": "python",
   "nbconvert_exporter": "python",
   "pygments_lexer": "ipython2",
   "version": "2.7.11"
  }
 },
 "nbformat": 4,
 "nbformat_minor": 0
}
