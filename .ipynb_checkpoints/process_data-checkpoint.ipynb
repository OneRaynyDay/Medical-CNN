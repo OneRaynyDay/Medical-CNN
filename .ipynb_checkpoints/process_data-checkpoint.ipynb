{
 "cells": [
  {
   "cell_type": "markdown",
   "metadata": {},
   "source": [
    "# Preprocessing The Data #"
   ]
  },
  {
   "cell_type": "markdown",
   "metadata": {},
   "source": [
    "There are some techniques we want to use to process the data, but first let's load in the values from the .mat files."
   ]
  },
  {
   "cell_type": "code",
   "execution_count": 2,
   "metadata": {
    "collapsed": true
   },
   "outputs": [],
   "source": [
    "# Import list\n",
    "import scipy.io as sio\n",
    "import numpy as np\n",
    "import os"
   ]
  },
  {
   "cell_type": "code",
   "execution_count": 3,
   "metadata": {
    "collapsed": false
   },
   "outputs": [
    {
     "name": "stdout",
     "output_type": "stream",
     "text": [
      "Key :  __version__ \n",
      " Values :  1.0\n",
      "Key :  data \n",
      " Values :  [[array([[152]], dtype=uint8) array([u'2b'], \n",
      "      dtype='<U2')\n",
      "  array([[ nan]]) ..., array([[ nan]]) array([[5]], dtype=uint8)\n",
      "  array([[ nan]])]\n",
      " [array([[189]], dtype=uint8) array([u'2b'], \n",
      "      dtype='<U2')\n",
      "  array([[ nan]]) ..., array([[ nan]]) array([[4]], dtype=uint8)\n",
      "  array([[20]], dtype=uint8)]\n",
      " [array([[137]], dtype=uint8) array([u'2a'], \n",
      "      dtype='<U2')\n",
      "  array([[ nan]]) ..., array([[ nan]]) array([[5]], dtype=uint8)\n",
      "  array([[19]], dtype=uint8)]\n",
      " ..., \n",
      " [array([], shape=(1, 0), dtype=float64)\n",
      "  array([], shape=(1, 0), dtype=float64)\n",
      "  array([], shape=(1, 0), dtype=float64) ...,\n",
      "  array([], shape=(1, 0), dtype=float64)\n",
      "  array([], shape=(1, 0), dtype=float64)\n",
      "  array([], shape=(1, 0), dtype=float64)]\n",
      " [array([], shape=(1, 0), dtype=float64)\n",
      "  array([], shape=(1, 0), dtype=float64)\n",
      "  array([], shape=(1, 0), dtype=float64) ...,\n",
      "  array([], shape=(1, 0), dtype=float64)\n",
      "  array([], shape=(1, 0), dtype=float64)\n",
      "  array([], shape=(1, 0), dtype=float64)]\n",
      " [array([], shape=(1, 0), dtype=float64)\n",
      "  array([], shape=(1, 0), dtype=float64)\n",
      "  array([], shape=(1, 0), dtype=float64) ...,\n",
      "  array([], shape=(1, 0), dtype=float64)\n",
      "  array([], shape=(1, 0), dtype=float64)\n",
      "  array([], shape=(1, 0), dtype=float64)]]\n",
      "Key :  __header__ \n",
      " Values :  MATLAB 5.0 MAT-file, Platform: MACI64, Created on: Wed Jun 11 23:58:39 2014\n",
      "Key :  __globals__ \n",
      " Values :  []\n"
     ]
    }
   ],
   "source": [
    "contents = sio.loadmat('data/data.mat') # This is the first file, I think it contains the labels?\n",
    "for key in contents.keys():\n",
    "    print \"Key : \", key, \"\\n Values : \", contents[key]"
   ]
  },
  {
   "cell_type": "markdown",
   "metadata": {},
   "source": [
    "## What do we see ##\n",
    "We see a couple different things inside, one strikes our attention:\n",
    "- \"__version__\" is the version of the mat\n",
    "- \"__data__\" is the data we want\n",
    "- \"__header__\" and \"__globals__\" are empty things we don't really care about."
   ]
  },
  {
   "cell_type": "code",
   "execution_count": 4,
   "metadata": {
    "collapsed": false,
    "scrolled": true
   },
   "outputs": [
    {
     "name": "stdout",
     "output_type": "stream",
     "text": [
      "y's :  [3, 3, 2, 2, 2, 2, 2, 3, 4, 2, 3, 3, 3, 1, 2, 2, 2, 3, 0, 2, 3, 2, 3, 0, 3, 2, 3, 2, 3, 0, 3, 3, 0, 2, 3, 2, 0, 3, 0, 0, 0, 4, 4, 3, 2, 4, 3, 2, 2, 0, 2, 3, 2, 0, 2, 0, 0, 3, 3, 2, 3, 4, 0, 0, -1, 2, 0, 3, -1, 1, 3, 3, 3, 0, 2, 0, 0, 4, 0, 2, 2, 2, 3, 3, 2, 3, 4, 2, 3, 2, 3, 3, 3, 0, 0, 0, 3, 2, 4, 2, 3, 3, 3, 3, 1, 0, 0, 1, 1, 2, 3, 3, 2, 2, 3, 3, 3, 3, 2, 2, 3, 4, 3, 3, 3, 4, 3, 0, 4, 3, 2, 4, 2, 2, 2, 3, 3, 2, 2, 1, 3, 3, 2, 0, 3, 3, 3, 2, 3, 0, 4, 1, 3, 3, 1, 3, 0, 2, 3, 2, 0, 4, 3, 3, 4, 3, 2, 2, 3, 3, 4, 3, 2, 3, 2, 2, 2, 2, 3, 3, 3, 2, 3]\n",
      "y freq's :  {0: 29, 1: 8, 2: 55, 3: 73, 4: 16, -1: 2}\n"
     ]
    }
   ],
   "source": [
    "# Extract the data field\n",
    "raw_data = contents['data']\n",
    "# We see there is an array of arbitrary size, sometimes there's 152, nan, 189, etc...\n",
    "# We see the label (ground truth) in the array with the dtype = unsigned 2 bit integer\n",
    "\n",
    "raw_labels = [raw_data_element[1] for raw_data_element in raw_data]\n",
    "# print \"Some raw data labels : \", raw_labels[:30]\n",
    "\n",
    "label = raw_labels\n",
    "# print label\n",
    "# We need to change these into classes, so let's map the labels to values:\n",
    "# An issue is that for some reason the matrices are in 2d, so we can't get the value straight away, reshape it\n",
    "# nan = -1 <-- What is \"nan\"? Ask fabien\n",
    "# 0 = 0\n",
    "# 1 = 1\n",
    "# 2a = 2\n",
    "# 2b = 3\n",
    "# 3 = 4\n",
    "mapping = {'na' : -1, '0' : 0, '1' : 1, '2a' : 2, '2b' : 3, '3' : 4}\n",
    "\n",
    "labels = []\n",
    "for patientID, label in enumerate(raw_labels):\n",
    "    unrolled_label = label.reshape(-1)\n",
    "    if len(unrolled_label) > 0:\n",
    "        # we turn the numbers into str, and then cut anything unnecessary out\n",
    "        # There is one label with '0 (bilateral MCA)' and we can remove the second part by .split()\n",
    "        # There is one label with '2a?' and we can remove the question mark by just thresholding str to len <= 2\n",
    "        \n",
    "        # We store it in terms of patientID and the answer. This is because data is inconsistent so we need to \n",
    "        # Properly match X's to y's\n",
    "        labels.append((patientID, str(unrolled_label[0])[:2].split(\" \")[0]))\n",
    "\n",
    "# Now we turn them into y's:\n",
    "raw_y = [mapping[label[-1]] for label in labels]\n",
    "print \"y's : \" , raw_y\n",
    "\n",
    "# Now let's count the number of each occurrence:\n",
    "y_freq = {y:raw_y.count(y) for y in set(raw_y)}\n",
    "print \"y freq's : \", y_freq\n",
    "\n",
    "# From this, we can see there's a lot of 0's, and most data tends to be in the middle(2 & 3)'s. \n",
    "# TODO: Data augmentation to add more samples in the cases of class 1 and class 4."
   ]
  },
  {
   "cell_type": "markdown",
   "metadata": {
    "collapsed": true
   },
   "source": [
    "## Now that we got the y's, let's get the X's ##"
   ]
  },
  {
   "cell_type": "code",
   "execution_count": 10,
   "metadata": {
    "collapsed": false
   },
   "outputs": [
    {
     "name": "stdout",
     "output_type": "stream",
     "text": [
      "(183, 1024, 1024)\n"
     ]
    },
    {
     "name": "stderr",
     "output_type": "stream",
     "text": [
      "/Users/hongshuhong/anaconda/envs/DeepLearning/lib/python2.7/site-packages/ipykernel/__main__.py:28: DeprecationWarning: using a non-integer number instead of an integer will result in an error in the future\n"
     ]
    },
    {
     "ename": "KeyboardInterrupt",
     "evalue": "",
     "output_type": "error",
     "traceback": [
      "\u001b[0;31m---------------------------------------------------------------------------\u001b[0m",
      "\u001b[0;31mKeyboardInterrupt\u001b[0m                         Traceback (most recent call last)",
      "\u001b[0;32m<ipython-input-10-d7eff4164e20>\u001b[0m in \u001b[0;36m<module>\u001b[0;34m()\u001b[0m\n\u001b[1;32m      6\u001b[0m \u001b[0;32mfor\u001b[0m \u001b[0mi\u001b[0m\u001b[0;34m,\u001b[0m\u001b[0mf\u001b[0m \u001b[0;32min\u001b[0m \u001b[0menumerate\u001b[0m\u001b[0;34m(\u001b[0m\u001b[0mfs\u001b[0m\u001b[0;34m)\u001b[0m\u001b[0;34m:\u001b[0m\u001b[0;34m\u001b[0m\u001b[0m\n\u001b[1;32m      7\u001b[0m     \u001b[0;31m# We now are going to read in each file and then preprocess and then write and then throw it away.\u001b[0m\u001b[0;34m\u001b[0m\u001b[0;34m\u001b[0m\u001b[0m\n\u001b[0;32m----> 8\u001b[0;31m     \u001b[0mcontents\u001b[0m \u001b[0;34m=\u001b[0m \u001b[0msio\u001b[0m\u001b[0;34m.\u001b[0m\u001b[0mloadmat\u001b[0m\u001b[0;34m(\u001b[0m\u001b[0mf\u001b[0m\u001b[0;34m)\u001b[0m\u001b[0;34m\u001b[0m\u001b[0m\n\u001b[0m\u001b[1;32m      9\u001b[0m \u001b[0;34m\u001b[0m\u001b[0m\n\u001b[1;32m     10\u001b[0m     \u001b[0;31m# The format of contents is the following:\u001b[0m\u001b[0;34m\u001b[0m\u001b[0;34m\u001b[0m\u001b[0m\n",
      "\u001b[0;32m/Users/hongshuhong/anaconda/envs/DeepLearning/lib/python2.7/site-packages/scipy/io/matlab/mio.pyc\u001b[0m in \u001b[0;36mloadmat\u001b[0;34m(file_name, mdict, appendmat, **kwargs)\u001b[0m\n\u001b[1;32m    133\u001b[0m     \u001b[0mvariable_names\u001b[0m \u001b[0;34m=\u001b[0m \u001b[0mkwargs\u001b[0m\u001b[0;34m.\u001b[0m\u001b[0mpop\u001b[0m\u001b[0;34m(\u001b[0m\u001b[0;34m'variable_names'\u001b[0m\u001b[0;34m,\u001b[0m \u001b[0mNone\u001b[0m\u001b[0;34m)\u001b[0m\u001b[0;34m\u001b[0m\u001b[0m\n\u001b[1;32m    134\u001b[0m     \u001b[0mMR\u001b[0m \u001b[0;34m=\u001b[0m \u001b[0mmat_reader_factory\u001b[0m\u001b[0;34m(\u001b[0m\u001b[0mfile_name\u001b[0m\u001b[0;34m,\u001b[0m \u001b[0mappendmat\u001b[0m\u001b[0;34m,\u001b[0m \u001b[0;34m**\u001b[0m\u001b[0mkwargs\u001b[0m\u001b[0;34m)\u001b[0m\u001b[0;34m\u001b[0m\u001b[0m\n\u001b[0;32m--> 135\u001b[0;31m     \u001b[0mmatfile_dict\u001b[0m \u001b[0;34m=\u001b[0m \u001b[0mMR\u001b[0m\u001b[0;34m.\u001b[0m\u001b[0mget_variables\u001b[0m\u001b[0;34m(\u001b[0m\u001b[0mvariable_names\u001b[0m\u001b[0;34m)\u001b[0m\u001b[0;34m\u001b[0m\u001b[0m\n\u001b[0m\u001b[1;32m    136\u001b[0m     \u001b[0;32mif\u001b[0m \u001b[0mmdict\u001b[0m \u001b[0;32mis\u001b[0m \u001b[0;32mnot\u001b[0m \u001b[0mNone\u001b[0m\u001b[0;34m:\u001b[0m\u001b[0;34m\u001b[0m\u001b[0m\n\u001b[1;32m    137\u001b[0m         \u001b[0mmdict\u001b[0m\u001b[0;34m.\u001b[0m\u001b[0mupdate\u001b[0m\u001b[0;34m(\u001b[0m\u001b[0mmatfile_dict\u001b[0m\u001b[0;34m)\u001b[0m\u001b[0;34m\u001b[0m\u001b[0m\n",
      "\u001b[0;32m/Users/hongshuhong/anaconda/envs/DeepLearning/lib/python2.7/site-packages/scipy/io/matlab/mio5.pyc\u001b[0m in \u001b[0;36mget_variables\u001b[0;34m(self, variable_names)\u001b[0m\n\u001b[1;32m    290\u001b[0m                 \u001b[0;32mcontinue\u001b[0m\u001b[0;34m\u001b[0m\u001b[0m\n\u001b[1;32m    291\u001b[0m             \u001b[0;32mtry\u001b[0m\u001b[0;34m:\u001b[0m\u001b[0;34m\u001b[0m\u001b[0m\n\u001b[0;32m--> 292\u001b[0;31m                 \u001b[0mres\u001b[0m \u001b[0;34m=\u001b[0m \u001b[0mself\u001b[0m\u001b[0;34m.\u001b[0m\u001b[0mread_var_array\u001b[0m\u001b[0;34m(\u001b[0m\u001b[0mhdr\u001b[0m\u001b[0;34m,\u001b[0m \u001b[0mprocess\u001b[0m\u001b[0;34m)\u001b[0m\u001b[0;34m\u001b[0m\u001b[0m\n\u001b[0m\u001b[1;32m    293\u001b[0m             \u001b[0;32mexcept\u001b[0m \u001b[0mMatReadError\u001b[0m \u001b[0;32mas\u001b[0m \u001b[0merr\u001b[0m\u001b[0;34m:\u001b[0m\u001b[0;34m\u001b[0m\u001b[0m\n\u001b[1;32m    294\u001b[0m                 warnings.warn(\n",
      "\u001b[0;32m/Users/hongshuhong/anaconda/envs/DeepLearning/lib/python2.7/site-packages/scipy/io/matlab/mio5.pyc\u001b[0m in \u001b[0;36mread_var_array\u001b[0;34m(self, header, process)\u001b[0m\n\u001b[1;32m    250\u001b[0m            \u001b[0;34m`\u001b[0m\u001b[0mprocess\u001b[0m\u001b[0;34m`\u001b[0m\u001b[0;34m.\u001b[0m\u001b[0;34m\u001b[0m\u001b[0m\n\u001b[1;32m    251\u001b[0m         '''\n\u001b[0;32m--> 252\u001b[0;31m         \u001b[0;32mreturn\u001b[0m \u001b[0mself\u001b[0m\u001b[0;34m.\u001b[0m\u001b[0m_matrix_reader\u001b[0m\u001b[0;34m.\u001b[0m\u001b[0marray_from_header\u001b[0m\u001b[0;34m(\u001b[0m\u001b[0mheader\u001b[0m\u001b[0;34m,\u001b[0m \u001b[0mprocess\u001b[0m\u001b[0;34m)\u001b[0m\u001b[0;34m\u001b[0m\u001b[0m\n\u001b[0m\u001b[1;32m    253\u001b[0m \u001b[0;34m\u001b[0m\u001b[0m\n\u001b[1;32m    254\u001b[0m     \u001b[0;32mdef\u001b[0m \u001b[0mget_variables\u001b[0m\u001b[0;34m(\u001b[0m\u001b[0mself\u001b[0m\u001b[0;34m,\u001b[0m \u001b[0mvariable_names\u001b[0m\u001b[0;34m=\u001b[0m\u001b[0mNone\u001b[0m\u001b[0;34m)\u001b[0m\u001b[0;34m:\u001b[0m\u001b[0;34m\u001b[0m\u001b[0m\n",
      "\u001b[0;31mKeyboardInterrupt\u001b[0m: "
     ]
    }
   ],
   "source": [
    "X_path = 'data/dataMat' # We might change this later so just keeping variable\n",
    "x_dest = 'preprocessed_data/dataMat'\n",
    "fs = [os.path.join(X_path, 'fractals_' + str(label[0]+1) + '.mat') for label in labels]\n",
    "X_all = np.zeros((len(fs),1024,1024))\n",
    "print X_all.shape\n",
    "for i,f in enumerate(fs):\n",
    "    # We now are going to read in each file and then preprocess and then write and then throw it away.\n",
    "    contents = sio.loadmat(f)\n",
    "    \n",
    "    # The format of contents is the following:\n",
    "    # We have a field roi_MCA, firstFrame, lastFrame, and X. \n",
    "    # We want to get X as an np array.\n",
    "    \n",
    "    # For an example, the first few's shapes are:\n",
    "    # (1024, 1024, 20)\n",
    "    # (1024, 1024, 14)\n",
    "    # (1024, 1024, 20)\n",
    "    # (1024, 1024, 21)\n",
    "    # (1024, 1024, 15)\n",
    "    # (1024, 1024, 19)\n",
    "    # (1024, 1024, 18)\n",
    "    # (1024, 1024, 18)\n",
    "    \n",
    "    # We want to slice it with respect to the roi and the frames of interest:\n",
    "    frame_start, frame_end = np.sum(contents['firstFrame']), np.sum(contents['lastFrame'])\n",
    "    rois = contents['roi_MCA'] # We did not yet implement the spatial consistency yet. {TODO}\n",
    "    # one way we can do this is to mean all the values in the channels of temporal space where it's important frames.\n",
    "    cur_X = np.mean(contents['X'][:,:,frame_start:frame_end+1], axis=2)\n",
    "    X_all[i,:,:] = cur_X"
   ]
  },
  {
   "cell_type": "code",
   "execution_count": 12,
   "metadata": {
    "collapsed": false
   },
   "outputs": [
    {
     "data": {
      "text/plain": [
       "{'X': array([[[ 0.01086442,  0.01086442,  0.01086442, ...,  0.01086442,\n",
       "           0.01086442,  0.01086442],\n",
       "         [ 0.01036088,  0.01036088,  0.01036088, ...,  0.01036088,\n",
       "           0.01036088,  0.01036088],\n",
       "         [ 0.01037613,  0.01037613,  0.01037613, ...,  0.01037613,\n",
       "           0.01037613,  0.01037613],\n",
       "         ..., \n",
       "         [ 0.01039139,  0.01040665,  0.01040665, ...,  0.01040665,\n",
       "           0.01040665,  0.01040665],\n",
       "         [ 0.01040665,  0.01042191,  0.01042191, ...,  0.01042191,\n",
       "           0.01042191,  0.01042191],\n",
       "         [ 0.01104753,  0.01106279,  0.01106279, ...,  0.01106279,\n",
       "           0.01106279,  0.01106279]],\n",
       " \n",
       "        [[ 0.01086442,  0.01086442,  0.01086442, ...,  0.01086442,\n",
       "           0.01086442,  0.01086442],\n",
       "         [ 0.01036088,  0.01036088,  0.01036088, ...,  0.01036088,\n",
       "           0.01036088,  0.01036088],\n",
       "         [ 0.01037613,  0.01037613,  0.01037613, ...,  0.01037613,\n",
       "           0.01037613,  0.01037613],\n",
       "         ..., \n",
       "         [ 0.01039139,  0.01039139,  0.01039139, ...,  0.01039139,\n",
       "           0.01039139,  0.01039139],\n",
       "         [ 0.01039139,  0.01039139,  0.01039139, ...,  0.01039139,\n",
       "           0.01039139,  0.01039139],\n",
       "         [ 0.01095598,  0.01095598,  0.01095598, ...,  0.01095598,\n",
       "           0.01095598,  0.01095598]],\n",
       " \n",
       "        [[ 0.01086442,  0.01086442,  0.01086442, ...,  0.01086442,\n",
       "           0.01086442,  0.01086442],\n",
       "         [ 0.01036088,  0.01036088,  0.01036088, ...,  0.01036088,\n",
       "           0.01036088,  0.01036088],\n",
       "         [ 0.01037613,  0.01037613,  0.01037613, ...,  0.01037613,\n",
       "           0.01037613,  0.01037613],\n",
       "         ..., \n",
       "         [ 0.01039139,  0.01039139,  0.01039139, ...,  0.01039139,\n",
       "           0.01039139,  0.01039139],\n",
       "         [ 0.01037613,  0.01037613,  0.01037613, ...,  0.01037613,\n",
       "           0.01037613,  0.01037613],\n",
       "         [ 0.0109102 ,  0.0109102 ,  0.0109102 , ...,  0.0109102 ,\n",
       "           0.0109102 ,  0.0109102 ]],\n",
       " \n",
       "        ..., \n",
       "        [[ 0.0115053 ,  0.01164263,  0.01168841, ...,  0.01081865,\n",
       "           0.01097124,  0.0112459 ],\n",
       "         [ 0.01115435,  0.01123064,  0.01121538, ...,  0.01054398,\n",
       "           0.01055924,  0.01084916],\n",
       "         [ 0.01127642,  0.01126116,  0.01138323, ...,  0.01086442,\n",
       "           0.01095598,  0.01095598],\n",
       "         ..., \n",
       "         [ 0.00251774,  0.00262455,  0.00265507, ...,  0.00308232,\n",
       "           0.00308232,  0.00311284],\n",
       "         [ 0.00187686,  0.00190738,  0.00189212, ...,  0.00205997,\n",
       "           0.00209049,  0.00204471],\n",
       "         [ 0.0016022 ,  0.00172427,  0.00154116, ...,  0.00180056,\n",
       "           0.00184634,  0.00158694]],\n",
       " \n",
       "        [[ 0.01127642,  0.01141375,  0.01133745, ...,  0.01086442,\n",
       "           0.01100175,  0.01121538],\n",
       "         [ 0.01100175,  0.01106279,  0.0109865 , ...,  0.0106508 ,\n",
       "           0.01074235,  0.01094072],\n",
       "         [ 0.01118486,  0.01115435,  0.01127642, ...,  0.0109865 ,\n",
       "           0.01094072,  0.01081865],\n",
       "         ..., \n",
       "         [ 0.00267033,  0.00280766,  0.00277714, ...,  0.0028687 ,\n",
       "           0.00317388,  0.00317388],\n",
       "         [ 0.00201419,  0.00192264,  0.002121  , ...,  0.00215152,\n",
       "           0.00222782,  0.00222782],\n",
       "         [ 0.00196841,  0.00187686,  0.00178531, ...,  0.0019379 ,\n",
       "           0.00210575,  0.00196841]],\n",
       " \n",
       "        [[ 0.01120012,  0.01129168,  0.01132219, ...,  0.0106508 ,\n",
       "           0.01104753,  0.01101701],\n",
       "         [ 0.01078813,  0.01080339,  0.01094072, ...,  0.01074235,\n",
       "           0.01109331,  0.01086442],\n",
       "         [ 0.01094072,  0.01094072,  0.01106279, ...,  0.01109331,\n",
       "           0.01103227,  0.01080339],\n",
       "         ..., \n",
       "         [ 0.00262455,  0.0024567 ,  0.002533  , ...,  0.00283818,\n",
       "           0.00292973,  0.00288396],\n",
       "         [ 0.0018616 ,  0.00169375,  0.00177005, ...,  0.00181582,\n",
       "           0.00198367,  0.0018616 ],\n",
       "         [ 0.00155642,  0.00148013,  0.0016022 , ...,  0.00166323,\n",
       "           0.00167849,  0.00164797]]]),\n",
       " '__globals__': [],\n",
       " '__header__': 'MATLAB 5.0 MAT-file, Platform: MACI64, Created on: Wed Jun  4 23:11:55 2014',\n",
       " '__version__': '1.0',\n",
       " 'firstFrame': array([[10]], dtype=uint8),\n",
       " 'lastFrame': array([[15]], dtype=uint8),\n",
       " 'roi_MCA': array([[ 448.77467811,   21.37553648],\n",
       "        [ 422.4055794 ,  680.60300429],\n",
       "        [ 527.88197425,  843.21244635],\n",
       "        [ 789.37553648,  794.86909871],\n",
       "        [ 897.04935622,  594.90343348],\n",
       "        [ 802.56008584,  214.74892704]])}"
      ]
     },
     "execution_count": 12,
     "metadata": {},
     "output_type": "execute_result"
    }
   ],
   "source": [
    "# One approach we can do to interpret the data is to take an AVERAGE across temporal slices.\n",
    "# Another is we can PCA both the temporal dimension down AND the spatial dimension down. \n",
    "# Awaiting Andrej Karpathy's response on his reddit... please help ty\n",
    "\n",
    "# We will try to prune the data and save the rest into another file called preprocessed_data/dataMat\n",
    "for "
   ]
  },
  {
   "cell_type": "code",
   "execution_count": null,
   "metadata": {
    "collapsed": true
   },
   "outputs": [],
   "source": []
  }
 ],
 "metadata": {
  "kernelspec": {
   "display_name": "Python 2",
   "language": "python",
   "name": "python2"
  },
  "language_info": {
   "codemirror_mode": {
    "name": "ipython",
    "version": 2
   },
   "file_extension": ".py",
   "mimetype": "text/x-python",
   "name": "python",
   "nbconvert_exporter": "python",
   "pygments_lexer": "ipython2",
   "version": "2.7.11"
  }
 },
 "nbformat": 4,
 "nbformat_minor": 0
}
